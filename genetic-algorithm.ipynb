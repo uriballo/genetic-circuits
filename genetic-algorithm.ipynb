{
 "cells": [
  {
   "cell_type": "markdown",
   "metadata": {},
   "source": [
    "# Genetic Algorithm Approach"
   ]
  },
  {
   "cell_type": "code",
   "outputs": [],
   "source": [
    "import pennylane as qml\n",
    "from pennylane import numpy as np\n",
    "from tensorflow import keras\n",
    "import tensorflow as tf\n",
    "import matplotlib.pyplot as plt\n",
    "import random\n",
    "import math\n",
    "import collections"
   ],
   "metadata": {
    "collapsed": false,
    "ExecuteTime": {
     "end_time": "2024-02-26T09:09:54.390874Z",
     "start_time": "2024-02-26T09:09:50.818436Z"
    }
   },
   "execution_count": 1
  },
  {
   "cell_type": "code",
   "outputs": [],
   "source": [
    "tf.config.set_visible_devices([], 'GPU')"
   ],
   "metadata": {
    "collapsed": false,
    "ExecuteTime": {
     "end_time": "2024-02-26T09:09:54.395043Z",
     "start_time": "2024-02-26T09:09:54.392083Z"
    }
   },
   "execution_count": 2
  },
  {
   "cell_type": "markdown",
   "metadata": {},
   "source": [
    "## Hyperparameters"
   ]
  },
  {
   "cell_type": "code",
   "execution_count": 3,
   "metadata": {
    "ExecuteTime": {
     "end_time": "2024-02-26T09:09:54.396168Z",
     "start_time": "2024-02-26T09:09:54.394107Z"
    }
   },
   "outputs": [],
   "source": [
    "num_qubits = 4\n",
    "batch_size = 16\n",
    "n_epochs = 15\n",
    "n_train = 50  \n",
    "n_test = 20\n",
    "\n",
    "population_size = 50\n",
    "iterations = 10"
   ]
  },
  {
   "cell_type": "markdown",
   "metadata": {},
   "source": [
    "## Genetic Algorithm Components"
   ]
  },
  {
   "cell_type": "code",
   "execution_count": 4,
   "metadata": {
    "ExecuteTime": {
     "end_time": "2024-02-26T09:09:54.411650Z",
     "start_time": "2024-02-26T09:09:54.398938Z"
    }
   },
   "outputs": [],
   "source": [
    "dev = qml.device('lightning.qubit', wires=4)\n",
    "\n",
    "@qml.qnode(dev)\n",
    "def circuit(inputs, gates):\n",
    "    # Encoding of 4 classical input values\n",
    "    for j in range(num_qubits):\n",
    "        qml.RY(np.pi * inputs[j], wires=j)\n",
    "    \n",
    "    # Chromosome    \n",
    "    for gate in gates:\n",
    "        qml.apply(gate)\n",
    "\n",
    "    # Measurement producing 4 classical output values\n",
    "    return [qml.expval(qml.PauliZ(j)) for j in range(num_qubits)]\n",
    "\n",
    "def extract_windows(image):\n",
    "    height, width, num_channels = image.shape  # Get image dimensions\n",
    "\n",
    "    # Reshape to extract all 2x2 windows\n",
    "    windows = tf.reshape(image, (height // 2, width // 2, 2, 2, num_channels))\n",
    "    windows = tf.transpose(windows, (0, 2, 1, 3, 4)) \n",
    "\n",
    "    # Batching reshape\n",
    "    windows = tf.reshape(windows, ((height // 2) * (width // 2), 4, num_channels))\n",
    "\n",
    "    return windows\n",
    "\n",
    "def quanvolution(image, gates):\n",
    "    out = np.zeros((14, 14, 4))\n",
    "    \n",
    "    windows = extract_windows(image)\n",
    "    \n",
    "    for idx, window in enumerate(windows):\n",
    "        q_results = circuit(window, gates)\n",
    "        \n",
    "        ix = idx % 28\n",
    "        iy = idx // 28\n",
    "        \n",
    "        for j in range(4):\n",
    "            out[ix // 2, iy // 2, j] = q_results[j]\n",
    "    \"\"\"\n",
    "    # Loop over the coordinates of the top-left pixel of 2X2 squares\n",
    "    for j in range(0, 28, 2):\n",
    "        for k in range(0, 28, 2):\n",
    "            # Process a squared 2x2 region of the image with a quantum circuit\n",
    "            q_results = circuit(\n",
    "                [\n",
    "                    image[j, k, 0],\n",
    "                    image[j, k + 1, 0],\n",
    "                    image[j + 1, k, 0],\n",
    "                    image[j + 1, k + 1, 0]\n",
    "                ],\n",
    "                gates\n",
    "            )\n",
    "            # Assign expectation values to different channels of the output pixel (j/2, k/2)\n",
    "            for c in range(4):\n",
    "                out[j // 2, k // 2, c] = q_results[c]\"\"\"\n",
    "\n",
    "    return out"
   ]
  },
  {
   "cell_type": "code",
   "execution_count": 5,
   "metadata": {
    "ExecuteTime": {
     "end_time": "2024-02-26T09:09:54.419693Z",
     "start_time": "2024-02-26T09:09:54.413508Z"
    }
   },
   "outputs": [],
   "source": [
    "def extract_all_patches(images):\n",
    "    patches = tf.image.extract_patches(\n",
    "        images=images,\n",
    "        sizes=[1, 2, 2, 1],\n",
    "        strides=[1, 2, 2, 1],\n",
    "        rates=[1, 1, 1, 1],\n",
    "        padding='VALID'\n",
    "    )\n",
    "    \n",
    "    return patches\n",
    "\n",
    "def quanvolute_train_test(train_images, test_images, gates):\n",
    "    train_patches = extract_all_patches(train_images)\n",
    "    test_patches = extract_all_patches(test_images)\n",
    "    \n",
    "    train_batches = tf.reshape(train_patches, [-1,4])\n",
    "    test_batches = tf.reshape(test_patches, [-1,4])\n",
    "    \n",
    "    quanvoluted_train_images = tf.stack([circuit(patch, gates) for patch in train_batches])\n",
    "    quanvoluted_test_images = tf.stack([circuit(patch, gates) for patch in test_batches])\n",
    "\n",
    "    q_train_images = tf.reshape(quanvoluted_train_images, [len(train_images), 14, 14, 4])\n",
    "    q_test_images = tf.reshape(quanvoluted_test_images, [len(test_images), 14, 14, 4])\n",
    "        \n",
    "    q_train_images = np.asarray(q_train_images)\n",
    "    q_test_images = np.asarray(q_test_images)\n",
    "    \n",
    "    return q_train_images, q_test_images"
   ]
  },
  {
   "cell_type": "code",
   "execution_count": 6,
   "metadata": {
    "collapsed": false,
    "ExecuteTime": {
     "end_time": "2024-02-26T09:09:54.420170Z",
     "start_time": "2024-02-26T09:09:54.416254Z"
    }
   },
   "outputs": [],
   "source": [
    "def initialize_and_save_weights(layer, initializer):\n",
    "    weights = [initializer(shape) for shape in layer.get_weights()]\n",
    "    layer.set_weights(weights)\n",
    "    return weights  # Store the generated weights\n",
    "\n",
    "# In your reset_weights function\n",
    "def reset_weights(model):\n",
    "   for layer in model.layers:\n",
    "       if isinstance(layer, keras.layers.Dense):\n",
    "           layer.set_weights(saved_weights) "
   ]
  },
  {
   "cell_type": "code",
   "outputs": [],
   "source": [
    "def QNN():\n",
    "    optimizer = tf.keras.optimizers.legacy.Adam(learning_rate=3e-4) \n",
    "    \n",
    "    model = keras.models.Sequential([\n",
    "        keras.layers.Flatten(),\n",
    "        keras.layers.Dense(10, activation=\"softmax\")\n",
    "    ])\n",
    "\n",
    "    model.compile(\n",
    "        optimizer=optimizer,\n",
    "        loss=\"sparse_categorical_crossentropy\",\n",
    "        metrics=[\"accuracy\"],\n",
    "    )\n",
    "    return model\n",
    "\n",
    "desired_initializer = keras.initializers.HeNormal\n",
    "saved_weights = initialize_and_save_weights(keras.layers.Dense(10), desired_initializer)"
   ],
   "metadata": {
    "ExecuteTime": {
     "end_time": "2024-02-26T09:09:54.508438Z",
     "start_time": "2024-02-26T09:09:54.418724Z"
    }
   },
   "execution_count": 7
  },
  {
   "cell_type": "code",
   "execution_count": 8,
   "metadata": {
    "ExecuteTime": {
     "end_time": "2024-02-26T09:09:54.583905Z",
     "start_time": "2024-02-26T09:09:54.510019Z"
    }
   },
   "outputs": [],
   "source": [
    "def load_dataset(train_size, test_size):\n",
    "    mnist_dataset = keras.datasets.mnist\n",
    "    (train_images, train_labels), (test_images, test_labels) = mnist_dataset.load_data()\n",
    "\n",
    "    # --- Train Set ---\n",
    "    train_idx_by_class = [np.where(train_labels == i)[0] for i in range(10)]  \n",
    "    train_idx_selected = [\n",
    "        np.random.choice(idxs, min(len(idxs), train_size // 10), replace=False)  # Adjusted for train_size\n",
    "        for idxs in train_idx_by_class\n",
    "    ]\n",
    "    train_idx_selected = np.concatenate(train_idx_selected) \n",
    "\n",
    "    train_images = train_images[train_idx_selected]\n",
    "    train_labels = train_labels[train_idx_selected]\n",
    "\n",
    "    # --- Test Set --- (Apply the same logic)\n",
    "    test_idx_by_class = [np.where(test_labels == i)[0] for i in range(10)] \n",
    "    test_idx_selected = [\n",
    "        np.random.choice(idxs, min(len(idxs), test_size // 10), replace=False)  # Adjusted for test_size\n",
    "        for idxs in test_idx_by_class\n",
    "    ]\n",
    "    test_idx_selected = np.concatenate(test_idx_selected) \n",
    "\n",
    "    test_images = test_images[test_idx_selected]\n",
    "    test_labels = test_labels[test_idx_selected]\n",
    "\n",
    "    # Normalize pixel values within 0 and 1\n",
    "    train_images = train_images / 255.0\n",
    "    test_images = test_images / 255.0\n",
    "\n",
    "    # Add extra dimension for convolution channels\n",
    "    train_images = np.array(train_images[..., tf.newaxis], requires_grad=False)\n",
    "    test_images = np.array(test_images[..., tf.newaxis], requires_grad=False)\n",
    "    \n",
    "    #new_height = 14  # 28 / 2\n",
    "    #new_width = 14  # 28 / 2 \n",
    "    #train_images = tf.image.resize(train_images, (new_height, new_width))\n",
    "    #test_images = tf.image.resize(test_images, (new_height, new_width))\n",
    "    \n",
    "    return train_images, train_labels, test_images, test_labels\n",
    "\n",
    "train_images, train_labels, test_images, test_labels = load_dataset(n_train, n_test)"
   ]
  },
  {
   "cell_type": "code",
   "execution_count": 9,
   "metadata": {
    "ExecuteTime": {
     "end_time": "2024-02-26T09:09:54.708910Z",
     "start_time": "2024-02-26T09:09:54.583632Z"
    }
   },
   "outputs": [
    {
     "name": "stdout",
     "output_type": "stream",
     "text": [
      "Counter({0: 5, 1: 5, 2: 5, 3: 5, 4: 5, 5: 5, 6: 5, 7: 5, 8: 5, 9: 5})\n"
     ]
    },
    {
     "data": {
      "text/plain": "<Figure size 640x480 with 1 Axes>",
      "image/png": "[encoded data removed]"
     },
     "metadata": {},
     "output_type": "display_data"
    }
   ],
   "source": [
    "label_counts = collections.Counter(train_labels)\n",
    "print(label_counts)\n",
    "\n",
    "plt.hist(train_labels)\n",
    "plt.xlabel('Digit Class')\n",
    "plt.ylabel('Number of Samples')\n",
    "plt.title('Train Data Distribution')\n",
    "plt.show()"
   ]
  },
  {
   "cell_type": "code",
   "execution_count": 10,
   "metadata": {
    "ExecuteTime": {
     "end_time": "2024-02-26T09:09:54.823138Z",
     "start_time": "2024-02-26T09:09:54.718571Z"
    }
   },
   "outputs": [
    {
     "name": "stdout",
     "output_type": "stream",
     "text": [
      "Counter({0: 2, 1: 2, 2: 2, 3: 2, 4: 2, 5: 2, 6: 2, 7: 2, 8: 2, 9: 2})\n"
     ]
    },
    {
     "data": {
      "text/plain": "<Figure size 640x480 with 1 Axes>",
      "image/png": "[encoded data removed]"
     },
     "metadata": {},
     "output_type": "display_data"
    }
   ],
   "source": [
    "label_counts = collections.Counter(test_labels)\n",
    "print(label_counts)\n",
    "\n",
    "plt.hist(test_labels)\n",
    "plt.xlabel('Digit Class')\n",
    "plt.ylabel('Number of Samples')\n",
    "plt.title('Test Data Distribution')\n",
    "plt.show()"
   ]
  },
  {
   "cell_type": "code",
   "execution_count": 11,
   "metadata": {
    "ExecuteTime": {
     "end_time": "2024-02-26T09:09:54.830327Z",
     "start_time": "2024-02-26T09:09:54.825062Z"
    }
   },
   "outputs": [],
   "source": [
    "tf.random.set_seed(137)\n",
    "random.seed(137)  \n",
    "np.random.seed(137)  \n",
    "\n",
    "def evaluate_network(gates):\n",
    "    q_train, q_test = quanvolute_train_test(train_images, test_images, gates)\n",
    "    model = QNN()\n",
    "    \n",
    "    reset_weights(model)\n",
    "    hist = model.fit(q_train, train_labels, validation_data = (q_test, test_labels), batch_size = batch_size, epochs=n_epochs, verbose=False)\n",
    "    \n",
    "    return hist.history['val_accuracy'][-1]"
   ]
  },
  {
   "cell_type": "code",
   "execution_count": 12,
   "metadata": {
    "ExecuteTime": {
     "end_time": "2024-02-26T09:09:54.831377Z",
     "start_time": "2024-02-26T09:09:54.827116Z"
    }
   },
   "outputs": [],
   "source": [
    "non_param_gates = [qml.CNOT, qml.S, qml.T, qml.Hadamard]\n",
    "param_gates = [qml.RX, qml.RY, qml.RZ]"
   ]
  },
  {
   "cell_type": "code",
   "execution_count": 13,
   "metadata": {
    "ExecuteTime": {
     "end_time": "2024-02-26T09:09:54.844342Z",
     "start_time": "2024-02-26T09:09:54.834745Z"
    }
   },
   "outputs": [],
   "source": [
    "def generate_random_angle():\n",
    "    random_number = random.random()  # Generates a random float between 0 and 1\n",
    "    angle = random_number * 2 * math.pi \n",
    "    return angle\n",
    "\n",
    "def random_non_param_gate(n_wires):\n",
    "    gate = np.random.choice(non_param_gates)\n",
    "    \n",
    "    if gate == qml.CNOT:\n",
    "        wire1 = np.random.randint(n_wires)\n",
    "        wire2 = np.random.choice([i for i in range(n_wires) if i != wire1])\n",
    "        return gate(wires = [wire1, wire2])\n",
    "    else:\n",
    "        return gate(wires=np.random.randint(n_wires))\n",
    "\n",
    "def random_param_gate(n_wires):\n",
    "    gate = np.random.choice(param_gates)\n",
    "    return gate(generate_random_angle(), wires=np.random.randint(n_wires))"
   ]
  },
  {
   "cell_type": "code",
   "execution_count": 14,
   "metadata": {
    "ExecuteTime": {
     "end_time": "2024-02-26T09:09:54.845678Z",
     "start_time": "2024-02-26T09:09:54.836667Z"
    }
   },
   "outputs": [
    {
     "name": "stdout",
     "output_type": "stream",
     "text": [
      "T(wires=[2])\n",
      "S(wires=[3])\n",
      "CNOT(wires=[3, 2])\n",
      "S(wires=[1])\n",
      "T(wires=[2])\n",
      "Hadamard(wires=[1])\n",
      "Hadamard(wires=[1])\n",
      "Hadamard(wires=[3])\n",
      "S(wires=[0])\n",
      "CNOT(wires=[3, 0])\n",
      "RX(0.4546925961808592, wires=[0])\n",
      "RY(2.5767036351215973, wires=[0])\n",
      "RX(6.22195388519651, wires=[3])\n",
      "RZ(1.4509273233499869, wires=[3])\n",
      "RY(2.1914336345710286, wires=[3])\n",
      "RZ(5.156262266224696, wires=[1])\n",
      "RX(5.653853298018372, wires=[0])\n",
      "RY(3.2366476551092207, wires=[0])\n",
      "RX(6.043084001366762, wires=[2])\n",
      "RZ(5.274200026525157, wires=[1])\n"
     ]
    }
   ],
   "source": [
    "for i in range(10):\n",
    "    print(random_non_param_gate(4)) \n",
    "\n",
    "for i in range(10):\n",
    "    print(random_param_gate(4))"
   ]
  },
  {
   "cell_type": "code",
   "execution_count": 15,
   "metadata": {
    "ExecuteTime": {
     "end_time": "2024-02-26T09:09:54.909802Z",
     "start_time": "2024-02-26T09:09:54.843783Z"
    }
   },
   "outputs": [],
   "source": [
    "def generate_random_gate_sequence(n_wires, depth):\n",
    "    gates = []\n",
    "    for i in range(depth):\n",
    "        if np.random.rand() < 0.6:\n",
    "            gate = random_non_param_gate(n_wires)\n",
    "            gates.append(gate)\n",
    "        else:\n",
    "            gate = random_param_gate(n_wires)\n",
    "            gates.append(gate)\n",
    "    return gates"
   ]
  },
  {
   "cell_type": "code",
   "execution_count": 16,
   "metadata": {
    "ExecuteTime": {
     "end_time": "2024-02-26T09:09:54.961339Z",
     "start_time": "2024-02-26T09:09:54.847502Z"
    }
   },
   "outputs": [
    {
     "name": "stdout",
     "output_type": "stream",
     "text": [
      "[Hadamard(wires=[3]), RY(3.3015996332539594, wires=[1]), T(wires=[2]), Hadamard(wires=[0]), RY(0.8560500842789373, wires=[3]), RZ(2.684043818766091, wires=[2]), RY(3.256652791020847, wires=[2]), CNOT(wires=[3, 0])]\n"
     ]
    },
    {
     "name": "stderr",
     "output_type": "stream",
     "text": [
      "/var/folders/vw/hv55q7kn1vl9cm96jf24vpkh0000gn/T/ipykernel_13131/481791645.py:4: UserWarning: FigureCanvasAgg is non-interactive, and thus cannot be shown\n",
      "  fig.show()\n"
     ]
    },
    {
     "data": {
      "text/plain": "<Figure size 800x500 with 1 Axes>",
      "image/png": "[encoded data removed]"
     },
     "metadata": {},
     "output_type": "display_data"
    }
   ],
   "source": [
    "circ = generate_random_gate_sequence(4, 8)\n",
    "print(circ)\n",
    "fig, ax = qml.draw_mpl(circuit)([1.0,4,54,44], circ)\n",
    "fig.show()"
   ]
  },
  {
   "cell_type": "code",
   "execution_count": 17,
   "metadata": {
    "ExecuteTime": {
     "end_time": "2024-02-26T09:12:36.026798Z",
     "start_time": "2024-02-26T09:09:54.939982Z"
    }
   },
   "outputs": [
    {
     "name": "stdout",
     "output_type": "stream",
     "text": [
      "0.44999998807907104\n",
      "0.4000000059604645\n",
      "0.20000000298023224\n",
      "0.3499999940395355\n",
      "0.20000000298023224\n",
      "0.30000001192092896\n",
      "0.4000000059604645\n",
      "0.20000000298023224\n",
      "0.30000001192092896\n",
      "0.20000000298023224\n"
     ]
    }
   ],
   "source": [
    "# Even though we set the same weights as a starting point we'll get different results for \n",
    "# a circuit over different runs, this is due the optimizer being stochastic.\n",
    "for _ in range(10):\n",
    "    print(evaluate_network(circ))"
   ]
  },
  {
   "cell_type": "markdown",
   "metadata": {},
   "source": [
    "## Genetic Operators"
   ]
  },
  {
   "cell_type": "code",
   "execution_count": 18,
   "metadata": {
    "collapsed": false,
    "ExecuteTime": {
     "end_time": "2024-02-26T09:26:32.051881Z",
     "start_time": "2024-02-26T09:12:36.040555Z"
    }
   },
   "outputs": [
    {
     "ename": "InvalidArgumentError",
     "evalue": "Graph execution error:\n\nDetected at node Equal defined at (most recent call last):\n  File \"<frozen runpy>\", line 198, in _run_module_as_main\n\n  File \"<frozen runpy>\", line 88, in _run_code\n\n  File \"/Users/uri/PycharmProjects/genetic-circuits/.venv/lib/python3.11/site-packages/ipykernel_launcher.py\", line 18, in <module>\n\n  File \"/Users/uri/PycharmProjects/genetic-circuits/.venv/lib/python3.11/site-packages/traitlets/config/application.py\", line 1075, in launch_instance\n\n  File \"/Users/uri/PycharmProjects/genetic-circuits/.venv/lib/python3.11/site-packages/ipykernel/kernelapp.py\", line 739, in start\n\n  File \"/Users/uri/PycharmProjects/genetic-circuits/.venv/lib/python3.11/site-packages/tornado/platform/asyncio.py\", line 205, in start\n\n  File \"/Library/Frameworks/Python.framework/Versions/3.11/lib/python3.11/asyncio/base_events.py\", line 607, in run_forever\n\n  File \"/Library/Frameworks/Python.framework/Versions/3.11/lib/python3.11/asyncio/base_events.py\", line 1922, in _run_once\n\n  File \"/Library/Frameworks/Python.framework/Versions/3.11/lib/python3.11/asyncio/events.py\", line 80, in _run\n\n  File \"/Users/uri/PycharmProjects/genetic-circuits/.venv/lib/python3.11/site-packages/ipykernel/kernelbase.py\", line 542, in dispatch_queue\n\n  File \"/Users/uri/PycharmProjects/genetic-circuits/.venv/lib/python3.11/site-packages/ipykernel/kernelbase.py\", line 531, in process_one\n\n  File \"/Users/uri/PycharmProjects/genetic-circuits/.venv/lib/python3.11/site-packages/ipykernel/kernelbase.py\", line 437, in dispatch_shell\n\n  File \"/Users/uri/PycharmProjects/genetic-circuits/.venv/lib/python3.11/site-packages/ipykernel/ipkernel.py\", line 359, in execute_request\n\n  File \"/Users/uri/PycharmProjects/genetic-circuits/.venv/lib/python3.11/site-packages/ipykernel/kernelbase.py\", line 775, in execute_request\n\n  File \"/Users/uri/PycharmProjects/genetic-circuits/.venv/lib/python3.11/site-packages/ipykernel/ipkernel.py\", line 446, in do_execute\n\n  File \"/Users/uri/PycharmProjects/genetic-circuits/.venv/lib/python3.11/site-packages/ipykernel/zmqshell.py\", line 549, in run_cell\n\n  File \"/Users/uri/PycharmProjects/genetic-circuits/.venv/lib/python3.11/site-packages/IPython/core/interactiveshell.py\", line 3075, in run_cell\n\n  File \"/Users/uri/PycharmProjects/genetic-circuits/.venv/lib/python3.11/site-packages/IPython/core/interactiveshell.py\", line 3130, in _run_cell\n\n  File \"/Users/uri/PycharmProjects/genetic-circuits/.venv/lib/python3.11/site-packages/IPython/core/async_helpers.py\", line 129, in _pseudo_sync_runner\n\n  File \"/Users/uri/PycharmProjects/genetic-circuits/.venv/lib/python3.11/site-packages/IPython/core/interactiveshell.py\", line 3334, in run_cell_async\n\n  File \"/Users/uri/PycharmProjects/genetic-circuits/.venv/lib/python3.11/site-packages/IPython/core/interactiveshell.py\", line 3517, in run_ast_nodes\n\n  File \"/Users/uri/PycharmProjects/genetic-circuits/.venv/lib/python3.11/site-packages/IPython/core/interactiveshell.py\", line 3577, in run_code\n\n  File \"/var/folders/vw/hv55q7kn1vl9cm96jf24vpkh0000gn/T/ipykernel_13131/4243657828.py\", line 121, in <module>\n\n  File \"/var/folders/vw/hv55q7kn1vl9cm96jf24vpkh0000gn/T/ipykernel_13131/4243657828.py\", line 80, in genetic_algorithm\n\n  File \"/var/folders/vw/hv55q7kn1vl9cm96jf24vpkh0000gn/T/ipykernel_13131/4243657828.py\", line 2, in fitness\n\n  File \"/var/folders/vw/hv55q7kn1vl9cm96jf24vpkh0000gn/T/ipykernel_13131/1675555094.py\", line 10, in evaluate_network\n\n  File \"/Users/uri/PycharmProjects/genetic-circuits/.venv/lib/python3.11/site-packages/keras/src/utils/traceback_utils.py\", line 65, in error_handler\n\n  File \"/Users/uri/PycharmProjects/genetic-circuits/.venv/lib/python3.11/site-packages/keras/src/engine/training.py\", line 1856, in fit\n\n  File \"/Users/uri/PycharmProjects/genetic-circuits/.venv/lib/python3.11/site-packages/keras/src/utils/traceback_utils.py\", line 65, in error_handler\n\n  File \"/Users/uri/PycharmProjects/genetic-circuits/.venv/lib/python3.11/site-packages/keras/src/engine/training.py\", line 2296, in evaluate\n\n  File \"/Users/uri/PycharmProjects/genetic-circuits/.venv/lib/python3.11/site-packages/keras/src/engine/training.py\", line 4108, in run_step\n\n  File \"/Users/uri/PycharmProjects/genetic-circuits/.venv/lib/python3.11/site-packages/keras/src/engine/training.py\", line 2066, in test_function\n\n  File \"/Users/uri/PycharmProjects/genetic-circuits/.venv/lib/python3.11/site-packages/keras/src/engine/training.py\", line 2049, in step_function\n\n  File \"/Users/uri/PycharmProjects/genetic-circuits/.venv/lib/python3.11/site-packages/keras/src/engine/training.py\", line 2037, in run_step\n\n  File \"/Users/uri/PycharmProjects/genetic-circuits/.venv/lib/python3.11/site-packages/keras/src/engine/training.py\", line 1920, in test_step\n\n  File \"/Users/uri/PycharmProjects/genetic-circuits/.venv/lib/python3.11/site-packages/keras/src/engine/training.py\", line 1249, in compute_metrics\n\n  File \"/Users/uri/PycharmProjects/genetic-circuits/.venv/lib/python3.11/site-packages/keras/src/engine/compile_utils.py\", line 620, in update_state\n\n  File \"/Users/uri/PycharmProjects/genetic-circuits/.venv/lib/python3.11/site-packages/keras/src/utils/metrics_utils.py\", line 77, in decorated\n\n  File \"/Users/uri/PycharmProjects/genetic-circuits/.venv/lib/python3.11/site-packages/keras/src/metrics/base_metric.py\", line 140, in update_state_fn\n\n  File \"/Users/uri/PycharmProjects/genetic-circuits/.venv/lib/python3.11/site-packages/keras/src/metrics/base_metric.py\", line 723, in update_state\n\n  File \"/Users/uri/PycharmProjects/genetic-circuits/.venv/lib/python3.11/site-packages/keras/src/metrics/accuracy_metrics.py\", line 459, in sparse_categorical_accuracy\n\n  File \"/Users/uri/PycharmProjects/genetic-circuits/.venv/lib/python3.11/site-packages/keras/src/utils/metrics_utils.py\", line 969, in sparse_categorical_matches\n\nIncompatible shapes: [0] vs. [16]\n\t [[{{node Equal}}]] [Op:__inference_test_function_33078937]",
     "output_type": "error",
     "traceback": [
      "\u001B[0;31m---------------------------------------------------------------------------\u001B[0m",
      "\u001B[0;31mInvalidArgumentError\u001B[0m                      Traceback (most recent call last)",
      "Cell \u001B[0;32mIn[18], line 121\u001B[0m\n\u001B[1;32m    116\u001B[0m         \u001B[38;5;28mprint\u001B[39m(\u001B[38;5;124mf\u001B[39m\u001B[38;5;124m\"\u001B[39m\u001B[38;5;124mGeneration \u001B[39m\u001B[38;5;132;01m{\u001B[39;00mk\u001B[38;5;250m \u001B[39m\u001B[38;5;241m+\u001B[39m\u001B[38;5;250m \u001B[39m\u001B[38;5;241m1\u001B[39m\u001B[38;5;132;01m}\u001B[39;00m\u001B[38;5;124m:\u001B[39m\u001B[38;5;130;01m\\n\u001B[39;00m\u001B[38;5;130;01m\\t\u001B[39;00m\u001B[38;5;124mBest Accuracy: \u001B[39m\u001B[38;5;132;01m{\u001B[39;00mbest[\u001B[38;5;241m1\u001B[39m]\u001B[38;5;132;01m}\u001B[39;00m\u001B[38;5;130;01m\\n\u001B[39;00m\u001B[38;5;130;01m\\t\u001B[39;00m\u001B[38;5;124mBest Candidate: \u001B[39m\u001B[38;5;132;01m{\u001B[39;00mbest[\u001B[38;5;241m0\u001B[39m]\u001B[38;5;132;01m}\u001B[39;00m\u001B[38;5;130;01m\\n\u001B[39;00m\u001B[38;5;130;01m\\t\u001B[39;00m\u001B[38;5;124mAverage Accuracy: \u001B[39m\u001B[38;5;132;01m{\u001B[39;00mworst[\u001B[38;5;241m1\u001B[39m]\u001B[38;5;132;01m}\u001B[39;00m\u001B[38;5;124m\"\u001B[39m)  \n\u001B[1;32m    118\u001B[0m     \u001B[38;5;28;01mreturn\u001B[39;00m population\n\u001B[0;32m--> 121\u001B[0m final_population \u001B[38;5;241m=\u001B[39m \u001B[43mgenetic_algorithm\u001B[49m\u001B[43m(\u001B[49m\u001B[43mn_wires\u001B[49m\u001B[38;5;241;43m=\u001B[39;49m\u001B[38;5;241;43m4\u001B[39;49m\u001B[43m,\u001B[49m\u001B[43m \u001B[49m\u001B[43mdepth\u001B[49m\u001B[38;5;241;43m=\u001B[39;49m\u001B[38;5;241;43m8\u001B[39;49m\u001B[43m,\u001B[49m\u001B[43m \u001B[49m\u001B[43mpop_size\u001B[49m\u001B[38;5;241;43m=\u001B[39;49m\u001B[43mpopulation_size\u001B[49m\u001B[43m,\u001B[49m\u001B[43m \u001B[49m\u001B[43mn_generations\u001B[49m\u001B[38;5;241;43m=\u001B[39;49m\u001B[43miterations\u001B[49m\u001B[43m)\u001B[49m \n",
      "Cell \u001B[0;32mIn[18], line 80\u001B[0m, in \u001B[0;36mgenetic_algorithm\u001B[0;34m(n_wires, depth, pop_size, n_generations)\u001B[0m\n\u001B[1;32m     77\u001B[0m population \u001B[38;5;241m=\u001B[39m [(generate_random_gate_sequence(n_wires, np\u001B[38;5;241m.\u001B[39mrandom\u001B[38;5;241m.\u001B[39mrandint(low\u001B[38;5;241m=\u001B[39m\u001B[38;5;241m3\u001B[39m, high\u001B[38;5;241m=\u001B[39mdepth)), \u001B[38;5;241m0\u001B[39m) \u001B[38;5;28;01mfor\u001B[39;00m _ \u001B[38;5;129;01min\u001B[39;00m \u001B[38;5;28mrange\u001B[39m(pop_size)]\n\u001B[1;32m     79\u001B[0m \u001B[38;5;28;01mfor\u001B[39;00m i \u001B[38;5;129;01min\u001B[39;00m \u001B[38;5;28mrange\u001B[39m(pop_size):\n\u001B[0;32m---> 80\u001B[0m     population[i] \u001B[38;5;241m=\u001B[39m (population[i][\u001B[38;5;241m0\u001B[39m], \u001B[43mfitness\u001B[49m\u001B[43m(\u001B[49m\u001B[43mpopulation\u001B[49m\u001B[43m[\u001B[49m\u001B[43mi\u001B[49m\u001B[43m]\u001B[49m\u001B[43m[\u001B[49m\u001B[38;5;241;43m0\u001B[39;49m\u001B[43m]\u001B[49m\u001B[43m)\u001B[49m)\n\u001B[1;32m     82\u001B[0m population \u001B[38;5;241m=\u001B[39m \u001B[38;5;28msorted\u001B[39m(population, key\u001B[38;5;241m=\u001B[39m\u001B[38;5;28;01mlambda\u001B[39;00m x:x[\u001B[38;5;241m1\u001B[39m], reverse\u001B[38;5;241m=\u001B[39m\u001B[38;5;28;01mTrue\u001B[39;00m)\n\u001B[1;32m     84\u001B[0m \u001B[38;5;28mprint\u001B[39m(\u001B[38;5;124mf\u001B[39m\u001B[38;5;124m\"\u001B[39m\u001B[38;5;124mGeneration \u001B[39m\u001B[38;5;132;01m{\u001B[39;00m\u001B[38;5;241m0\u001B[39m\u001B[38;5;132;01m}\u001B[39;00m\u001B[38;5;124m:\u001B[39m\u001B[38;5;130;01m\\n\u001B[39;00m\u001B[38;5;130;01m\\t\u001B[39;00m\u001B[38;5;124mBest Accuracy: \u001B[39m\u001B[38;5;132;01m{\u001B[39;00mpopulation[\u001B[38;5;241m0\u001B[39m][\u001B[38;5;241m1\u001B[39m]\u001B[38;5;132;01m}\u001B[39;00m\u001B[38;5;130;01m\\n\u001B[39;00m\u001B[38;5;130;01m\\t\u001B[39;00m\u001B[38;5;124mBest Candidate: \u001B[39m\u001B[38;5;132;01m{\u001B[39;00m\u001B[38;5;28mmax\u001B[39m(population,\u001B[38;5;250m \u001B[39mkey\u001B[38;5;241m=\u001B[39m\u001B[38;5;28;01mlambda\u001B[39;00m\u001B[38;5;250m \u001B[39mx:\u001B[38;5;250m \u001B[39mx[\u001B[38;5;241m1\u001B[39m])[\u001B[38;5;241m0\u001B[39m]\u001B[38;5;132;01m}\u001B[39;00m\u001B[38;5;130;01m\\n\u001B[39;00m\u001B[38;5;130;01m\\t\u001B[39;00m\u001B[38;5;124mAverage Accuracy: \u001B[39m\u001B[38;5;132;01m{\u001B[39;00mnp\u001B[38;5;241m.\u001B[39mmean([x[\u001B[38;5;241m1\u001B[39m]\u001B[38;5;250m \u001B[39m\u001B[38;5;28;01mfor\u001B[39;00m\u001B[38;5;250m \u001B[39mx\u001B[38;5;250m \u001B[39m\u001B[38;5;129;01min\u001B[39;00m\u001B[38;5;250m \u001B[39mpopulation])\u001B[38;5;132;01m}\u001B[39;00m\u001B[38;5;124m\"\u001B[39m)  \n",
      "Cell \u001B[0;32mIn[18], line 2\u001B[0m, in \u001B[0;36mfitness\u001B[0;34m(gates)\u001B[0m\n\u001B[1;32m      1\u001B[0m \u001B[38;5;28;01mdef\u001B[39;00m \u001B[38;5;21mfitness\u001B[39m(gates):\n\u001B[0;32m----> 2\u001B[0m     \u001B[38;5;28;01mreturn\u001B[39;00m \u001B[43mevaluate_network\u001B[49m\u001B[43m(\u001B[49m\u001B[43mgates\u001B[49m\u001B[43m)\u001B[49m\n",
      "Cell \u001B[0;32mIn[11], line 10\u001B[0m, in \u001B[0;36mevaluate_network\u001B[0;34m(gates)\u001B[0m\n\u001B[1;32m      7\u001B[0m model \u001B[38;5;241m=\u001B[39m QNN()\n\u001B[1;32m      9\u001B[0m reset_weights(model)\n\u001B[0;32m---> 10\u001B[0m hist \u001B[38;5;241m=\u001B[39m \u001B[43mmodel\u001B[49m\u001B[38;5;241;43m.\u001B[39;49m\u001B[43mfit\u001B[49m\u001B[43m(\u001B[49m\u001B[43mq_train\u001B[49m\u001B[43m,\u001B[49m\u001B[43m \u001B[49m\u001B[43mtrain_labels\u001B[49m\u001B[43m,\u001B[49m\u001B[43m \u001B[49m\u001B[43mvalidation_data\u001B[49m\u001B[43m \u001B[49m\u001B[38;5;241;43m=\u001B[39;49m\u001B[43m \u001B[49m\u001B[43m(\u001B[49m\u001B[43mq_test\u001B[49m\u001B[43m,\u001B[49m\u001B[43m \u001B[49m\u001B[43mtest_labels\u001B[49m\u001B[43m)\u001B[49m\u001B[43m,\u001B[49m\u001B[43m \u001B[49m\u001B[43mbatch_size\u001B[49m\u001B[43m \u001B[49m\u001B[38;5;241;43m=\u001B[39;49m\u001B[43m \u001B[49m\u001B[43mbatch_size\u001B[49m\u001B[43m,\u001B[49m\u001B[43m \u001B[49m\u001B[43mepochs\u001B[49m\u001B[38;5;241;43m=\u001B[39;49m\u001B[43mn_epochs\u001B[49m\u001B[43m,\u001B[49m\u001B[43m \u001B[49m\u001B[43mverbose\u001B[49m\u001B[38;5;241;43m=\u001B[39;49m\u001B[38;5;28;43;01mFalse\u001B[39;49;00m\u001B[43m)\u001B[49m\n\u001B[1;32m     12\u001B[0m \u001B[38;5;28;01mreturn\u001B[39;00m hist\u001B[38;5;241m.\u001B[39mhistory[\u001B[38;5;124m'\u001B[39m\u001B[38;5;124mval_accuracy\u001B[39m\u001B[38;5;124m'\u001B[39m][\u001B[38;5;241m-\u001B[39m\u001B[38;5;241m1\u001B[39m]\n",
      "File \u001B[0;32m~/PycharmProjects/genetic-circuits/.venv/lib/python3.11/site-packages/keras/src/utils/traceback_utils.py:70\u001B[0m, in \u001B[0;36mfilter_traceback.<locals>.error_handler\u001B[0;34m(*args, **kwargs)\u001B[0m\n\u001B[1;32m     67\u001B[0m     filtered_tb \u001B[38;5;241m=\u001B[39m _process_traceback_frames(e\u001B[38;5;241m.\u001B[39m__traceback__)\n\u001B[1;32m     68\u001B[0m     \u001B[38;5;66;03m# To get the full stack trace, call:\u001B[39;00m\n\u001B[1;32m     69\u001B[0m     \u001B[38;5;66;03m# `tf.debugging.disable_traceback_filtering()`\u001B[39;00m\n\u001B[0;32m---> 70\u001B[0m     \u001B[38;5;28;01mraise\u001B[39;00m e\u001B[38;5;241m.\u001B[39mwith_traceback(filtered_tb) \u001B[38;5;28;01mfrom\u001B[39;00m \u001B[38;5;28;01mNone\u001B[39;00m\n\u001B[1;32m     71\u001B[0m \u001B[38;5;28;01mfinally\u001B[39;00m:\n\u001B[1;32m     72\u001B[0m     \u001B[38;5;28;01mdel\u001B[39;00m filtered_tb\n",
      "File \u001B[0;32m~/PycharmProjects/genetic-circuits/.venv/lib/python3.11/site-packages/tensorflow/python/eager/execute.py:53\u001B[0m, in \u001B[0;36mquick_execute\u001B[0;34m(op_name, num_outputs, inputs, attrs, ctx, name)\u001B[0m\n\u001B[1;32m     51\u001B[0m \u001B[38;5;28;01mtry\u001B[39;00m:\n\u001B[1;32m     52\u001B[0m   ctx\u001B[38;5;241m.\u001B[39mensure_initialized()\n\u001B[0;32m---> 53\u001B[0m   tensors \u001B[38;5;241m=\u001B[39m pywrap_tfe\u001B[38;5;241m.\u001B[39mTFE_Py_Execute(ctx\u001B[38;5;241m.\u001B[39m_handle, device_name, op_name,\n\u001B[1;32m     54\u001B[0m                                       inputs, attrs, num_outputs)\n\u001B[1;32m     55\u001B[0m \u001B[38;5;28;01mexcept\u001B[39;00m core\u001B[38;5;241m.\u001B[39m_NotOkStatusException \u001B[38;5;28;01mas\u001B[39;00m e:\n\u001B[1;32m     56\u001B[0m   \u001B[38;5;28;01mif\u001B[39;00m name \u001B[38;5;129;01mis\u001B[39;00m \u001B[38;5;129;01mnot\u001B[39;00m \u001B[38;5;28;01mNone\u001B[39;00m:\n",
      "\u001B[0;31mInvalidArgumentError\u001B[0m: Graph execution error:\n\nDetected at node Equal defined at (most recent call last):\n  File \"<frozen runpy>\", line 198, in _run_module_as_main\n\n  File \"<frozen runpy>\", line 88, in _run_code\n\n  File \"/Users/uri/PycharmProjects/genetic-circuits/.venv/lib/python3.11/site-packages/ipykernel_launcher.py\", line 18, in <module>\n\n  File \"/Users/uri/PycharmProjects/genetic-circuits/.venv/lib/python3.11/site-packages/traitlets/config/application.py\", line 1075, in launch_instance\n\n  File \"/Users/uri/PycharmProjects/genetic-circuits/.venv/lib/python3.11/site-packages/ipykernel/kernelapp.py\", line 739, in start\n\n  File \"/Users/uri/PycharmProjects/genetic-circuits/.venv/lib/python3.11/site-packages/tornado/platform/asyncio.py\", line 205, in start\n\n  File \"/Library/Frameworks/Python.framework/Versions/3.11/lib/python3.11/asyncio/base_events.py\", line 607, in run_forever\n\n  File \"/Library/Frameworks/Python.framework/Versions/3.11/lib/python3.11/asyncio/base_events.py\", line 1922, in _run_once\n\n  File \"/Library/Frameworks/Python.framework/Versions/3.11/lib/python3.11/asyncio/events.py\", line 80, in _run\n\n  File \"/Users/uri/PycharmProjects/genetic-circuits/.venv/lib/python3.11/site-packages/ipykernel/kernelbase.py\", line 542, in dispatch_queue\n\n  File \"/Users/uri/PycharmProjects/genetic-circuits/.venv/lib/python3.11/site-packages/ipykernel/kernelbase.py\", line 531, in process_one\n\n  File \"/Users/uri/PycharmProjects/genetic-circuits/.venv/lib/python3.11/site-packages/ipykernel/kernelbase.py\", line 437, in dispatch_shell\n\n  File \"/Users/uri/PycharmProjects/genetic-circuits/.venv/lib/python3.11/site-packages/ipykernel/ipkernel.py\", line 359, in execute_request\n\n  File \"/Users/uri/PycharmProjects/genetic-circuits/.venv/lib/python3.11/site-packages/ipykernel/kernelbase.py\", line 775, in execute_request\n\n  File \"/Users/uri/PycharmProjects/genetic-circuits/.venv/lib/python3.11/site-packages/ipykernel/ipkernel.py\", line 446, in do_execute\n\n  File \"/Users/uri/PycharmProjects/genetic-circuits/.venv/lib/python3.11/site-packages/ipykernel/zmqshell.py\", line 549, in run_cell\n\n  File \"/Users/uri/PycharmProjects/genetic-circuits/.venv/lib/python3.11/site-packages/IPython/core/interactiveshell.py\", line 3075, in run_cell\n\n  File \"/Users/uri/PycharmProjects/genetic-circuits/.venv/lib/python3.11/site-packages/IPython/core/interactiveshell.py\", line 3130, in _run_cell\n\n  File \"/Users/uri/PycharmProjects/genetic-circuits/.venv/lib/python3.11/site-packages/IPython/core/async_helpers.py\", line 129, in _pseudo_sync_runner\n\n  File \"/Users/uri/PycharmProjects/genetic-circuits/.venv/lib/python3.11/site-packages/IPython/core/interactiveshell.py\", line 3334, in run_cell_async\n\n  File \"/Users/uri/PycharmProjects/genetic-circuits/.venv/lib/python3.11/site-packages/IPython/core/interactiveshell.py\", line 3517, in run_ast_nodes\n\n  File \"/Users/uri/PycharmProjects/genetic-circuits/.venv/lib/python3.11/site-packages/IPython/core/interactiveshell.py\", line 3577, in run_code\n\n  File \"/var/folders/vw/hv55q7kn1vl9cm96jf24vpkh0000gn/T/ipykernel_13131/4243657828.py\", line 121, in <module>\n\n  File \"/var/folders/vw/hv55q7kn1vl9cm96jf24vpkh0000gn/T/ipykernel_13131/4243657828.py\", line 80, in genetic_algorithm\n\n  File \"/var/folders/vw/hv55q7kn1vl9cm96jf24vpkh0000gn/T/ipykernel_13131/4243657828.py\", line 2, in fitness\n\n  File \"/var/folders/vw/hv55q7kn1vl9cm96jf24vpkh0000gn/T/ipykernel_13131/1675555094.py\", line 10, in evaluate_network\n\n  File \"/Users/uri/PycharmProjects/genetic-circuits/.venv/lib/python3.11/site-packages/keras/src/utils/traceback_utils.py\", line 65, in error_handler\n\n  File \"/Users/uri/PycharmProjects/genetic-circuits/.venv/lib/python3.11/site-packages/keras/src/engine/training.py\", line 1856, in fit\n\n  File \"/Users/uri/PycharmProjects/genetic-circuits/.venv/lib/python3.11/site-packages/keras/src/utils/traceback_utils.py\", line 65, in error_handler\n\n  File \"/Users/uri/PycharmProjects/genetic-circuits/.venv/lib/python3.11/site-packages/keras/src/engine/training.py\", line 2296, in evaluate\n\n  File \"/Users/uri/PycharmProjects/genetic-circuits/.venv/lib/python3.11/site-packages/keras/src/engine/training.py\", line 4108, in run_step\n\n  File \"/Users/uri/PycharmProjects/genetic-circuits/.venv/lib/python3.11/site-packages/keras/src/engine/training.py\", line 2066, in test_function\n\n  File \"/Users/uri/PycharmProjects/genetic-circuits/.venv/lib/python3.11/site-packages/keras/src/engine/training.py\", line 2049, in step_function\n\n  File \"/Users/uri/PycharmProjects/genetic-circuits/.venv/lib/python3.11/site-packages/keras/src/engine/training.py\", line 2037, in run_step\n\n  File \"/Users/uri/PycharmProjects/genetic-circuits/.venv/lib/python3.11/site-packages/keras/src/engine/training.py\", line 1920, in test_step\n\n  File \"/Users/uri/PycharmProjects/genetic-circuits/.venv/lib/python3.11/site-packages/keras/src/engine/training.py\", line 1249, in compute_metrics\n\n  File \"/Users/uri/PycharmProjects/genetic-circuits/.venv/lib/python3.11/site-packages/keras/src/engine/compile_utils.py\", line 620, in update_state\n\n  File \"/Users/uri/PycharmProjects/genetic-circuits/.venv/lib/python3.11/site-packages/keras/src/utils/metrics_utils.py\", line 77, in decorated\n\n  File \"/Users/uri/PycharmProjects/genetic-circuits/.venv/lib/python3.11/site-packages/keras/src/metrics/base_metric.py\", line 140, in update_state_fn\n\n  File \"/Users/uri/PycharmProjects/genetic-circuits/.venv/lib/python3.11/site-packages/keras/src/metrics/base_metric.py\", line 723, in update_state\n\n  File \"/Users/uri/PycharmProjects/genetic-circuits/.venv/lib/python3.11/site-packages/keras/src/metrics/accuracy_metrics.py\", line 459, in sparse_categorical_accuracy\n\n  File \"/Users/uri/PycharmProjects/genetic-circuits/.venv/lib/python3.11/site-packages/keras/src/utils/metrics_utils.py\", line 969, in sparse_categorical_matches\n\nIncompatible shapes: [0] vs. [16]\n\t [[{{node Equal}}]] [Op:__inference_test_function_33078937]"
     ]
    }
   ],
   "source": [
    "def fitness(gates):\n",
    "    return evaluate_network(gates)\n",
    "\n",
    "def tournament_selection(population, tournament_size=3):\n",
    "    \"\"\"Selects a parent by sampling 'tournament_size' individuals randomly. \n",
    "       Assumes population is a list of (individual, fitness) tuples.\n",
    "    \"\"\"\n",
    "    participants = np.random.choice(len(population), tournament_size, replace=False)\n",
    "    best_candidate_idx = participants[np.argmax([population[p][1] for p in participants])]  # Access fitness with [1]\n",
    "    return population[best_candidate_idx]  # Return the entire (individual, fitness) tuple\n",
    "\n",
    "def one_point_crossover(parent1, parent2):\n",
    "    \"\"\"Performs one-point crossover between two circuits. \n",
    "       Assumes parents are individuals.\n",
    "    \"\"\"\n",
    "    crossover_point = np.random.randint(1, min(len(parent1), len(parent2))) \n",
    "    offspring1_circuit = parent1[:crossover_point] + parent2[crossover_point:]\n",
    "    offspring2_circuit = parent2[:crossover_point] + parent1[crossover_point:]\n",
    "    return offspring1_circuit, offspring2_circuit  \n",
    "\n",
    "def kth_point_crossover(parent1, parent2, k):\n",
    "    \"\"\"Performs kth-point crossover between\n",
    "        two circuits\n",
    "       Assumes parents are individuals\n",
    "    \"\"\"\n",
    "    if k < 1:\n",
    "        raise ValueError(\"k (number of crossover points) must be at least 1\")\n",
    "\n",
    "    length = min(len(parent1), len(parent2))\n",
    "\n",
    "    # Generate k random crossover points within the length of the parents\n",
    "    crossover_points = sorted(np.random.choice(range(1, length), size=k, replace=False))\n",
    "\n",
    "    # Initialize offspring with alternating segments\n",
    "    offspring1_circuit = parent1.copy() \n",
    "    offspring2_circuit = parent2.copy()\n",
    "    current_parent = 1  # Start with parent1\n",
    "\n",
    "    # Iterate through crossover points, swapping segments \n",
    "    for i in range(len(crossover_points)):\n",
    "        start = crossover_points[i - 1] if i > 0 else 0\n",
    "        end = crossover_points[i]\n",
    "\n",
    "        if current_parent == 1:\n",
    "            offspring1_circuit[start:end] = parent2[start:end]\n",
    "            offspring2_circuit[start:end] = parent1[start:end]\n",
    "        else:\n",
    "            offspring1_circuit[start:end] = parent1[start:end]\n",
    "            offspring2_circuit[start:end] = parent2[start:end]\n",
    "\n",
    "        current_parent = (current_parent + 1) % 2  # Switch parents\n",
    "\n",
    "    return offspring1_circuit, offspring2_circuit  \n",
    "\n",
    "\n",
    "def simple_mutation(individual, mutation_rate=0.05, n_wires=4):\n",
    "    \"\"\"Mutates a circuit with a certain probability per gate.\n",
    "       Assumes parents are individuals.\n",
    "    \"\"\"\n",
    "    for i in range(len(individual)):\n",
    "        if np.random.rand() < mutation_rate:\n",
    "            if np.random.rand() < 0.33:\n",
    "                individual[i] = random_param_gate(n_wires)\n",
    "            else:\n",
    "                individual[i] = random_non_param_gate(n_wires)\n",
    "\n",
    "    return individual  \n",
    "\n",
    "def mutate_circuit(circuit, n_wires = 4):\n",
    "        gate_to_mutate = np.random.choice(range(len(circuit)))\n",
    "        \n",
    "        circuit[gate_to_mutate] = generate_random_gate_sequence(n_wires, 1)[0]\n",
    "        \n",
    "        return circuit, fitness(circuit)\n",
    "\n",
    "def genetic_algorithm(n_wires, depth, pop_size, n_generations):\n",
    "    population = [(generate_random_gate_sequence(n_wires, np.random.randint(low=3, high=depth)), 0) for _ in range(pop_size)]\n",
    "    \n",
    "    for i in range(pop_size):\n",
    "        population[i] = (population[i][0], fitness(population[i][0]))\n",
    "    \n",
    "    population = sorted(population, key=lambda x:x[1], reverse=True)\n",
    "    \n",
    "    print(f\"Generation {0}:\\n\\tBest Accuracy: {population[0][1]}\\n\\tBest Candidate: {max(population, key=lambda x: x[1])[0]}\\n\\tAverage Accuracy: {np.mean([x[1] for x in population])}\")  \n",
    "\n",
    "    for k in range(n_generations):\n",
    "        offspring = []\n",
    "\n",
    "        for _ in range(pop_size // 2):\n",
    "            parent1 = tournament_selection(population)  \n",
    "            parent2 = tournament_selection(population)\n",
    "\n",
    "            offspring1, offspring2 = kth_point_crossover(parent1[0], parent2[0], 2)\n",
    "            offspring1_fitness = fitness(offspring1)  \n",
    "            offspring2_fitness = fitness(offspring2)\n",
    "            \n",
    "            offspring.append((offspring1, offspring1_fitness)) \n",
    "            offspring.append((offspring2, offspring2_fitness))\n",
    "    \n",
    "        population = population + offspring\n",
    "        \n",
    "        mutations = []\n",
    "        for circuit in population:\n",
    "            if np.random.rand() < 0.05:\n",
    "                mutated_circuit, mutated_fitness = mutate_circuit(circuit[0])\n",
    "                mutations.append((mutated_circuit, mutated_fitness))\n",
    "        \n",
    "        population = population + mutations \n",
    "        population = sorted(population, key=lambda x: x[1], reverse=True) \n",
    "\n",
    "        # Keep only the top individuals\n",
    "        population = population[:pop_size]  \n",
    "\n",
    "        best = population[0]\n",
    "        worst = population[-1]\n",
    "        print(f\"Generation {k + 1}:\\n\\tBest Accuracy: {best[1]}\\n\\tBest Candidate: {best[0]}\\n\\tAverage Accuracy: {worst[1]}\")  \n",
    "\n",
    "    return population\n",
    "\n",
    "\n",
    "final_population = genetic_algorithm(n_wires=4, depth=8, pop_size=population_size, n_generations=iterations) "
   ]
  },
  {
   "cell_type": "markdown",
   "source": [
    "RY(1.0786645678346245, wires=[1]), RZ(3.9320293157691073, wires=[3]), T(wires=[1])"
   ],
   "metadata": {
    "collapsed": false
   }
  },
  {
   "cell_type": "code",
   "outputs": [],
   "source": [
    "circuit_to_test = final_population[2][0]\n",
    "fig, ax = qml.draw_mpl(circuit)([1.0,4,54,44], circuit_to_test)\n",
    "fig.show()"
   ],
   "metadata": {
    "ExecuteTime": {
     "end_time": "2024-02-26T09:26:32.060008Z",
     "start_time": "2024-02-26T09:26:32.053037Z"
    }
   },
   "execution_count": null
  },
  {
   "cell_type": "code",
   "outputs": [],
   "source": [
    "for gate in circuit_to_test:\n",
    "    print(f\"qml.{gate}\")"
   ],
   "metadata": {
    "collapsed": false,
    "ExecuteTime": {
     "start_time": "2024-02-26T09:26:32.055037Z"
    }
   },
   "execution_count": null
  },
  {
   "cell_type": "code",
   "execution_count": null,
   "metadata": {
    "collapsed": false,
    "ExecuteTime": {
     "start_time": "2024-02-26T09:26:32.056921Z"
    }
   },
   "outputs": [],
   "source": [
    "n_epochs = 30\n",
    "n_train = 500\n",
    "n_test = 100\n",
    "\n",
    "train_images, train_labels, test_images, test_labels = load_dataset(n_train, n_test)\n",
    "q_train, q_test = quanvolute_train_test(train_images, test_images, circuit_to_test)"
   ]
  },
  {
   "cell_type": "code",
   "outputs": [],
   "source": [
    "print(q_train.shape)\n",
    "\n",
    "n_samples = 4\n",
    "n_channels = 4\n",
    "max_index = train_images.shape[0] - 1  \n",
    "\n",
    "fig, axes = plt.subplots(1 + n_channels, n_samples, figsize=(10, 10))\n",
    "random_indices = random.sample(range(max_index + 1), n_samples)  # Generate random indices\n",
    "\n",
    "for k, index in enumerate(random_indices):  # Use indices instead of k directly\n",
    "    axes[0, 0].set_ylabel(\"Input\")\n",
    "    if k != 0:\n",
    "        axes[0, k].yaxis.set_visible(False)\n",
    "    axes[0, k].imshow(train_images[index, :, :, 0], cmap=\"gray\")\n",
    "\n",
    "    # Plot all output channels\n",
    "    for c in range(n_channels):\n",
    "        axes[c + 1, 0].set_ylabel(\"Output [ch. {}]\".format(c))\n",
    "        if k != 0:\n",
    "            axes[c, k].yaxis.set_visible(False)\n",
    "        axes[c + 1, k].imshow(q_train[index, :, :, c], cmap=\"gray\")\n",
    "\n",
    "plt.tight_layout()\n",
    "plt.show()"
   ],
   "metadata": {
    "collapsed": false,
    "ExecuteTime": {
     "start_time": "2024-02-26T09:26:32.059325Z"
    }
   },
   "execution_count": null
  },
  {
   "cell_type": "code",
   "outputs": [],
   "source": [
    "model1 = QNN()\n",
    "hist1 = model1.fit(q_train, train_labels, validation_data = (q_test, test_labels), batch_size = 64, epochs=n_epochs, verbose=2)"
   ],
   "metadata": {
    "ExecuteTime": {
     "start_time": "2024-02-26T09:26:32.061283Z"
    }
   },
   "execution_count": null
  },
  {
   "cell_type": "code",
   "execution_count": null,
   "metadata": {
    "ExecuteTime": {
     "start_time": "2024-02-26T09:26:32.062833Z"
    }
   },
   "outputs": [],
   "source": [
    "def CNN():\n",
    "    optimizer = tf.keras.optimizers.legacy.Adam(learning_rate=3e-4) \n",
    "    model = keras.models.Sequential([\n",
    "        keras.layers.Conv2D(1, (2, 2), activation=\"relu\", input_shape=(28, 28, 1)),\n",
    "        keras.layers.Flatten(),\n",
    "        keras.layers.Dense(10, activation=\"softmax\")\n",
    "    ])\n",
    "\n",
    "    model.compile(\n",
    "        optimizer=optimizer,\n",
    "        loss=\"sparse_categorical_crossentropy\",\n",
    "        metrics=[\"accuracy\"],\n",
    "    )\n",
    "    return model\n",
    "\n",
    "model2 = CNN()\n",
    "hist2 = model2.fit(train_images, train_labels, validation_data = (test_images, test_labels), batch_size = 64, epochs=n_epochs, verbose=2)"
   ]
  },
  {
   "cell_type": "code",
   "execution_count": null,
   "metadata": {
    "ExecuteTime": {
     "end_time": "2024-02-26T09:26:32.072550Z",
     "start_time": "2024-02-26T09:26:32.063767Z"
    }
   },
   "outputs": [],
   "source": [
    "fig, (ax1, ax2) = plt.subplots(2, 1, figsize=(6, 9))\n",
    "\n",
    "ax1.plot(hist1.history[\"val_accuracy\"], \"-ob\", label=\"Quantum Convolutional Neural Network\")\n",
    "ax1.plot(hist2.history[\"val_accuracy\"], \"-og\", label=\"Classical Convolutional Neural Network\")\n",
    "ax1.set_ylabel(\"Accuracy\")\n",
    "ax1.set_ylim([0, 1])\n",
    "ax1.set_xlabel(\"Epoch\")\n",
    "ax1.legend()\n",
    "\n",
    "ax2.plot(hist1.history[\"val_loss\"], \"-ob\", label=\"Quantum Convolutional Neural Network\")\n",
    "ax2.plot(hist2.history[\"val_loss\"], \"-og\", label=\"Classical Convolutional Neural Network\")\n",
    "ax2.set_ylabel(\"Loss\")\n",
    "ax2.set_ylim(top=2.5)\n",
    "ax2.set_xlabel(\"Epoch\")\n",
    "ax2.legend()\n",
    "plt.tight_layout()\n",
    "plt.show()"
   ]
  },
  {
   "cell_type": "code",
   "outputs": [],
   "source": [],
   "metadata": {
    "collapsed": false,
    "ExecuteTime": {
     "start_time": "2024-02-26T09:26:32.064670Z"
    }
   },
   "execution_count": null
  },
  {
   "cell_type": "code",
   "outputs": [],
   "source": [],
   "metadata": {
    "collapsed": false,
    "ExecuteTime": {
     "start_time": "2024-02-26T09:26:32.065419Z"
    }
   }
  }
 ],
 "metadata": {
  "kernelspec": {
   "display_name": "Python 3",
   "language": "python",
   "name": "python3"
  },
  "language_info": {
   "codemirror_mode": {
    "name": "ipython",
    "version": 3
   },
   "file_extension": ".py",
   "mimetype": "text/x-python",
   "name": "python",
   "nbconvert_exporter": "python",
   "pygments_lexer": "ipython3",
   "version": "3.9.6"
  }
 },
 "nbformat": 4,
 "nbformat_minor": 2
}
